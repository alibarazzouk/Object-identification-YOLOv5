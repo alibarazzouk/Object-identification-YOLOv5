{
 "cells": [
  {
   "cell_type": "code",
   "execution_count": 1,
   "metadata": {},
   "outputs": [],
   "source": [
    "import cv2\n",
    "import numpy as np"
   ]
  },
  {
   "attachments": {},
   "cell_type": "markdown",
   "metadata": {},
   "source": [
    "# Video Object Detection"
   ]
  },
  {
   "cell_type": "code",
   "execution_count": 3,
   "metadata": {},
   "outputs": [
    {
     "ename": "KeyboardInterrupt",
     "evalue": "",
     "output_type": "error",
     "traceback": [
      "\u001b[1;31m---------------------------------------------------------------------------\u001b[0m",
      "\u001b[1;31mKeyboardInterrupt\u001b[0m                         Traceback (most recent call last)",
      "\u001b[1;32mc:\\Users\\Barazzouk\\Desktop\\Single-Multiple-Custom-Object-Detection-master\\1. Project - Custom Object Detection\\.ipynb Cell 2\u001b[0m in \u001b[0;36m<cell line: 9>\u001b[1;34m()\u001b[0m\n\u001b[0;32m     <a href='vscode-notebook-cell:/c%3A/Users/Barazzouk/Desktop/Single-Multiple-Custom-Object-Detection-master/1.%20Project%20-%20Custom%20Object%20Detection/.ipynb#W1sZmlsZQ%3D%3D?line=12'>13</a>\u001b[0m net\u001b[39m.\u001b[39msetInput(blob)\n\u001b[0;32m     <a href='vscode-notebook-cell:/c%3A/Users/Barazzouk/Desktop/Single-Multiple-Custom-Object-Detection-master/1.%20Project%20-%20Custom%20Object%20Detection/.ipynb#W1sZmlsZQ%3D%3D?line=13'>14</a>\u001b[0m output_layers_names\u001b[39m=\u001b[39mnet\u001b[39m.\u001b[39mgetUnconnectedOutLayersNames()\n\u001b[1;32m---> <a href='vscode-notebook-cell:/c%3A/Users/Barazzouk/Desktop/Single-Multiple-Custom-Object-Detection-master/1.%20Project%20-%20Custom%20Object%20Detection/.ipynb#W1sZmlsZQ%3D%3D?line=14'>15</a>\u001b[0m layerOutputs\u001b[39m=\u001b[39m net\u001b[39m.\u001b[39;49mforward(output_layers_names)\n\u001b[0;32m     <a href='vscode-notebook-cell:/c%3A/Users/Barazzouk/Desktop/Single-Multiple-Custom-Object-Detection-master/1.%20Project%20-%20Custom%20Object%20Detection/.ipynb#W1sZmlsZQ%3D%3D?line=16'>17</a>\u001b[0m boxes \u001b[39m=\u001b[39m []\n\u001b[0;32m     <a href='vscode-notebook-cell:/c%3A/Users/Barazzouk/Desktop/Single-Multiple-Custom-Object-Detection-master/1.%20Project%20-%20Custom%20Object%20Detection/.ipynb#W1sZmlsZQ%3D%3D?line=17'>18</a>\u001b[0m confidences \u001b[39m=\u001b[39m []\n",
      "\u001b[1;31mKeyboardInterrupt\u001b[0m: "
     ]
    }
   ],
   "source": [
    "net = cv2.dnn.readNet('yolov3.weights', 'yolov3.cfg')\n",
    "classes = []\n",
    "with open(\"coco.txt\", \"r\") as f:\n",
    "    classes = f.read().splitlines()\n",
    "cap= cv2.VideoCapture('file/video.mp4')\n",
    "\n",
    "\n",
    "while True:\n",
    " _,img=cap.read()\n",
    " height,width,_=img.shape\n",
    "    \n",
    " blob = cv2.dnn.blobFromImage(img, 1/255, (416, 416), (0,0,0), swapRB=True, crop=False)\n",
    " net.setInput(blob)\n",
    " output_layers_names=net.getUnconnectedOutLayersNames()\n",
    " layerOutputs= net.forward(output_layers_names)\n",
    "\n",
    " boxes = []\n",
    " confidences = []\n",
    " class_ids = []\n",
    "\n",
    " for output in layerOutputs:\n",
    "        for detection in output:\n",
    "            scores = detection[5:]\n",
    "            class_id = np.argmax(scores)\n",
    "            confidence = scores[class_id]\n",
    "            if confidence > 0.5:\n",
    "                center_x = int(detection[0]*width)\n",
    "                center_y = int(detection[1]*height)\n",
    "                w = int(detection[2]*width)\n",
    "                h = int(detection[3]*height)\n",
    "\n",
    "                x = int(center_x - w/2)\n",
    "                y = int(center_y - h/2)\n",
    "\n",
    "                boxes.append([x, y, w, h])\n",
    "                confidences.append((float(confidence)))\n",
    "                class_ids.append(class_id)\n",
    "\n",
    "\n",
    " indexes = cv2.dnn.NMSBoxes(boxes, confidences, 0.5, 0.4)\n",
    "\n",
    " font= cv2.FONT_HERSHEY_PLAIN\n",
    " colors= np.random.uniform(0,255,size=(len(boxes),3))\n",
    "\n",
    " if len(indexes)>0:\n",
    "  for i in indexes.flatten():\n",
    "    x,y,w,h=boxes[i]\n",
    "    label = str(classes[class_ids[i]])\n",
    "    confidence = str(round(confidences[i],2))\n",
    "    color = colors[i]\n",
    "    cv2.rectangle(img,(x,y),(x+w,y+h),color,2)\n",
    "    cv2.putText(img,label + \" \" + confidence,(x,y+20),font,2,(255,255,255),2)\n",
    "\n",
    "\n",
    " cv2.imshow('Image',img)\n",
    " key = cv2.waitKey(1)\n",
    " if key==27:\n",
    "    break\n",
    "\n",
    "cap.release()\n",
    "cv2.destroyAllWindows()\n",
    "\n",
    "\n",
    "\n",
    "\n",
    "\n",
    "\n",
    "\n",
    "\n",
    "\n",
    "\n",
    "\n",
    "\n",
    "\n",
    "\n",
    "    \n",
    "    \n"
   ]
  },
  {
   "attachments": {},
   "cell_type": "markdown",
   "metadata": {},
   "source": [
    "# Image Object Detection"
   ]
  },
  {
   "cell_type": "code",
   "execution_count": 4,
   "metadata": {},
   "outputs": [],
   "source": [
    "\n",
    "net = cv2.dnn.readNet('yolov3.weights', 'yolov3.cfg')\n",
    "classes = []\n",
    "with open(\"coco.txt\", \"r\") as f:\n",
    "    classes = f.read().splitlines()\n",
    "\n",
    "img =cv2.imread('image1.png')\n",
    "\n",
    " \n",
    "height,width,_=img.shape\n",
    "blob = cv2.dnn.blobFromImage(img, 1/255, (416, 416), (0,0,0), swapRB=True, crop=False)\n",
    "net.setInput(blob)\n",
    "output_layers_names=net.getUnconnectedOutLayersNames()\n",
    "layerOutputs= net.forward(output_layers_names)\n",
    "\n",
    "boxes = []\n",
    "confidences = []\n",
    "class_ids = []\n",
    "\n",
    "\n",
    "for output in layerOutputs:\n",
    "        for detection in output:\n",
    "            scores = detection[5:]\n",
    "            class_id = np.argmax(scores)\n",
    "            confidence = scores[class_id]\n",
    "            if confidence > 0.5:\n",
    "                center_x = int(detection[0]*width)\n",
    "                center_y = int(detection[1]*height)\n",
    "                w = int(detection[2]*width)\n",
    "                h = int(detection[3]*height)\n",
    "\n",
    "                x = int(center_x - w/2)\n",
    "                y = int(center_y - h/2)\n",
    "\n",
    "                boxes.append([x, y, w, h])\n",
    "                confidences.append((float(confidence)))\n",
    "                class_ids.append(class_id)\n",
    "\n",
    "\n",
    "\n",
    "indexes = cv2.dnn.NMSBoxes(boxes, confidences, 0.5, 0.4)\n",
    "\n",
    "font= cv2.FONT_HERSHEY_PLAIN\n",
    "colors= np.random.uniform(0,255,size=(len(boxes),3))\n",
    "\n",
    "if len(indexes)>0:\n",
    "  for i in indexes.flatten():\n",
    "    x,y,w,h=boxes[i]\n",
    "    label = str(classes[class_ids[i]])\n",
    "    confidence = str(round(confidences[i],2))\n",
    "    color = colors[i]\n",
    "    cv2.rectangle(img,(x,y),(x+w,y+h),color,2)\n",
    "    cv2.putText(img,label + \" \" + confidence,(x,y+20),font,2,(255,255,255),2)\n",
    "\n",
    "\n",
    "cv2.imshow('Image',img)\n",
    "cv2.waitKey(0)\n",
    "cv2.destroyAllWindows()"
   ]
  },
  {
   "cell_type": "code",
   "execution_count": null,
   "metadata": {},
   "outputs": [],
   "source": []
  }
 ],
 "metadata": {
  "kernelspec": {
   "display_name": "base",
   "language": "python",
   "name": "python3"
  },
  "language_info": {
   "codemirror_mode": {
    "name": "ipython",
    "version": 3
   },
   "file_extension": ".py",
   "mimetype": "text/x-python",
   "name": "python",
   "nbconvert_exporter": "python",
   "pygments_lexer": "ipython3",
   "version": "3.9.12"
  },
  "orig_nbformat": 4,
  "vscode": {
   "interpreter": {
    "hash": "f6b22b1ec8579174a9e292a5e44a49e5833f1e28ae83af025156cb23f6f1d0a4"
   }
  }
 },
 "nbformat": 4,
 "nbformat_minor": 2
}
